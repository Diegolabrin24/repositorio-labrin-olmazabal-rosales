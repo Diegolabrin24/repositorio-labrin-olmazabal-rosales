{
 "cells": [
  {
   "cell_type": "markdown",
   "id": "8878269e",
   "metadata": {},
   "source": [
    "# Visualización UFC - Postura vs Métricas Técnicas\n",
    "Este notebook genera una visualización comparativa del desempeño técnico de peleadores de UFC según su postura."
   ]
  },
  {
   "cell_type": "code",
   "execution_count": null,
   "id": "36f9e91a",
   "metadata": {},
   "outputs": [],
   "source": [
    "# Instalar librerías necesarias\n",
    "!pip install \"vegafusion[embed]>=1.5.0\" \"vl-convert-python>=1.6.0\" altair vega_datasets -q\n"
   ]
  },
  {
   "cell_type": "code",
   "execution_count": null,
   "id": "a089ca3e",
   "metadata": {},
   "outputs": [],
   "source": [
    "import pandas as pd\n",
    "import altair as alt\n",
    "\n",
    "# Configurar Altair para Google Colab\n",
    "alt.data_transformers.enable('vegafusion')\n",
    "alt.renderers.enable('colab')\n"
   ]
  },
  {
   "cell_type": "code",
   "execution_count": null,
   "id": "187b2528",
   "metadata": {},
   "outputs": [],
   "source": [
    "# Cargar la base de datos\n",
    "df = pd.read_csv(\"UFC_fighters_limpia.csv\")\n",
    "df.head()\n"
   ]
  },
  {
   "cell_type": "code",
   "execution_count": null,
   "id": "5470dc9b",
   "metadata": {},
   "outputs": [],
   "source": [
    "# Filtrar las 5 posturas más comunes\n",
    "top_stances = df['Stance'].value_counts().head(5).index.tolist()\n",
    "df_filtered = df[df['Stance'].isin(top_stances)].copy()\n",
    "\n",
    "# Definir métricas técnicas\n",
    "metricas = ['SLpM', 'SApM', 'Str_Acc', 'Str_Def', 'TD_Avg', 'TD_Acc', 'TD_Def', 'Sub_Avg']\n",
    "\n",
    "# Eliminar registros incompletos\n",
    "df_filtered = df_filtered.dropna(subset=metricas)\n"
   ]
  },
  {
   "cell_type": "code",
   "execution_count": null,
   "id": "f63c6592",
   "metadata": {},
   "outputs": [],
   "source": [
    "# Transformar a formato largo\n",
    "df_long = df_filtered.melt(\n",
    "    id_vars='Stance',\n",
    "    value_vars=metricas,\n",
    "    var_name='Métrica',\n",
    "    value_name='Valor'\n",
    ")\n",
    "df_long.head()\n"
   ]
  },
  {
   "cell_type": "code",
   "execution_count": null,
   "id": "14928439",
   "metadata": {},
   "outputs": [],
   "source": [
    "# Crear el gráfico con Altair\n",
    "chart = alt.Chart(df_long).mark_bar().encode(\n",
    "    x=alt.X('Métrica:N', title='Métrica técnica'),\n",
    "    y=alt.Y('mean(Valor):Q', title='Promedio'),\n",
    "    color=alt.Color('Stance:N', title='Postura'),\n",
    "    column=alt.Column('Stance:N', title='Postura', spacing=5)\n",
    ").properties(\n",
    "    title='Promedio de métricas técnicas por postura en peleadores de UFC',\n",
    "    width=100,\n",
    "    height=300\n",
    ").configure_axis(\n",
    "    labelAngle=0\n",
    ")\n",
    "\n",
    "chart.display()\n"
   ]
  },
  {
   "cell_type": "code",
   "execution_count": null,
   "id": "267732af",
   "metadata": {},
   "outputs": [],
   "source": [
    "# Exportar como archivo HTML (opcional)\n",
    "chart.save('vis_01.html')\n"
   ]
  }
 ],
 "metadata": {},
 "nbformat": 4,
 "nbformat_minor": 5
}