{
  "nbformat": 4,
  "nbformat_minor": 0,
  "metadata": {
    "colab": {
      "provenance": []
    },
    "kernelspec": {
      "name": "python3",
      "display_name": "Python 3"
    },
    "language_info": {
      "name": "python"
    }
  },
  "cells": [
    {
      "cell_type": "code",
      "source": [
        "pip install altair vega_datasets openpyxl"
      ],
      "metadata": {
        "colab": {
          "base_uri": "https://localhost:8080/"
        },
        "id": "85xpfG5pzuoE",
        "outputId": "4f6353e0-c5fe-4723-ac4e-b3dbea5962c2"
      },
      "execution_count": 10,
      "outputs": [
        {
          "output_type": "stream",
          "name": "stdout",
          "text": [
            "Requirement already satisfied: altair in /usr/local/lib/python3.11/dist-packages (5.5.0)\n",
            "Requirement already satisfied: vega_datasets in /usr/local/lib/python3.11/dist-packages (0.9.0)\n",
            "Requirement already satisfied: openpyxl in /usr/local/lib/python3.11/dist-packages (3.1.5)\n",
            "Requirement already satisfied: jinja2 in /usr/local/lib/python3.11/dist-packages (from altair) (3.1.6)\n",
            "Requirement already satisfied: jsonschema>=3.0 in /usr/local/lib/python3.11/dist-packages (from altair) (4.24.0)\n",
            "Requirement already satisfied: narwhals>=1.14.2 in /usr/local/lib/python3.11/dist-packages (from altair) (1.43.0)\n",
            "Requirement already satisfied: packaging in /usr/local/lib/python3.11/dist-packages (from altair) (24.2)\n",
            "Requirement already satisfied: typing-extensions>=4.10.0 in /usr/local/lib/python3.11/dist-packages (from altair) (4.14.0)\n",
            "Requirement already satisfied: pandas in /usr/local/lib/python3.11/dist-packages (from vega_datasets) (2.2.2)\n",
            "Requirement already satisfied: et-xmlfile in /usr/local/lib/python3.11/dist-packages (from openpyxl) (2.0.0)\n",
            "Requirement already satisfied: attrs>=22.2.0 in /usr/local/lib/python3.11/dist-packages (from jsonschema>=3.0->altair) (25.3.0)\n",
            "Requirement already satisfied: jsonschema-specifications>=2023.03.6 in /usr/local/lib/python3.11/dist-packages (from jsonschema>=3.0->altair) (2025.4.1)\n",
            "Requirement already satisfied: referencing>=0.28.4 in /usr/local/lib/python3.11/dist-packages (from jsonschema>=3.0->altair) (0.36.2)\n",
            "Requirement already satisfied: rpds-py>=0.7.1 in /usr/local/lib/python3.11/dist-packages (from jsonschema>=3.0->altair) (0.25.1)\n",
            "Requirement already satisfied: MarkupSafe>=2.0 in /usr/local/lib/python3.11/dist-packages (from jinja2->altair) (3.0.2)\n",
            "Requirement already satisfied: numpy>=1.23.2 in /usr/local/lib/python3.11/dist-packages (from pandas->vega_datasets) (2.0.2)\n",
            "Requirement already satisfied: python-dateutil>=2.8.2 in /usr/local/lib/python3.11/dist-packages (from pandas->vega_datasets) (2.9.0.post0)\n",
            "Requirement already satisfied: pytz>=2020.1 in /usr/local/lib/python3.11/dist-packages (from pandas->vega_datasets) (2025.2)\n",
            "Requirement already satisfied: tzdata>=2022.7 in /usr/local/lib/python3.11/dist-packages (from pandas->vega_datasets) (2025.2)\n",
            "Requirement already satisfied: six>=1.5 in /usr/local/lib/python3.11/dist-packages (from python-dateutil>=2.8.2->pandas->vega_datasets) (1.17.0)\n"
          ]
        }
      ]
    },
    {
      "cell_type": "code",
      "source": [
        "pip install altair"
      ],
      "metadata": {
        "colab": {
          "base_uri": "https://localhost:8080/"
        },
        "id": "8woI6QUPz0K9",
        "outputId": "1a3f904a-4d70-4e88-edb2-b5c21275bf4b"
      },
      "execution_count": 11,
      "outputs": [
        {
          "output_type": "stream",
          "name": "stdout",
          "text": [
            "Requirement already satisfied: altair in /usr/local/lib/python3.11/dist-packages (5.5.0)\n",
            "Requirement already satisfied: jinja2 in /usr/local/lib/python3.11/dist-packages (from altair) (3.1.6)\n",
            "Requirement already satisfied: jsonschema>=3.0 in /usr/local/lib/python3.11/dist-packages (from altair) (4.24.0)\n",
            "Requirement already satisfied: narwhals>=1.14.2 in /usr/local/lib/python3.11/dist-packages (from altair) (1.43.0)\n",
            "Requirement already satisfied: packaging in /usr/local/lib/python3.11/dist-packages (from altair) (24.2)\n",
            "Requirement already satisfied: typing-extensions>=4.10.0 in /usr/local/lib/python3.11/dist-packages (from altair) (4.14.0)\n",
            "Requirement already satisfied: attrs>=22.2.0 in /usr/local/lib/python3.11/dist-packages (from jsonschema>=3.0->altair) (25.3.0)\n",
            "Requirement already satisfied: jsonschema-specifications>=2023.03.6 in /usr/local/lib/python3.11/dist-packages (from jsonschema>=3.0->altair) (2025.4.1)\n",
            "Requirement already satisfied: referencing>=0.28.4 in /usr/local/lib/python3.11/dist-packages (from jsonschema>=3.0->altair) (0.36.2)\n",
            "Requirement already satisfied: rpds-py>=0.7.1 in /usr/local/lib/python3.11/dist-packages (from jsonschema>=3.0->altair) (0.25.1)\n",
            "Requirement already satisfied: MarkupSafe>=2.0 in /usr/local/lib/python3.11/dist-packages (from jinja2->altair) (3.0.2)\n"
          ]
        }
      ]
    },
    {
      "cell_type": "code",
      "source": [
        "import pandas as pd\n",
        "import altair as alt\n",
        "\n",
        "# Cargar el archivo\n",
        "df = pd.read_excel(\"/union-clean 1.xlsx\")\n",
        "\n",
        "# Filtrar por años relevantes\n",
        "df = df[(df[\"Year\"] >= 2010) & (df[\"Year\"] <= 2021)]\n",
        "\n",
        "# Agrupar por año y región\n",
        "region_counts = (\n",
        "    df.groupby([\"Year\", \"Region\"])[\"Fighter\"]\n",
        "    .nunique()\n",
        "    .reset_index()\n",
        "    .rename(columns={\"Fighter\": \"FighterCount\"})\n",
        ")\n",
        "\n",
        "# Crear gráfico apilado con Altair\n",
        "chart = alt.Chart(region_counts).mark_bar().encode(\n",
        "    x=alt.X(\"Year:O\", title=\"Año\"),\n",
        "    y=alt.Y(\"FighterCount:Q\", title=\"N° de Peleadores\"),\n",
        "    color=alt.Color(\"Region:N\", title=\"Región\"),\n",
        "    tooltip=[\"Year\", \"Region\", \"FighterCount\"]\n",
        ").properties(\n",
        "    title=\"Distribución Regional de Peleadores UFC por Año (2010–2021)\",\n",
        "    width=700,\n",
        "    height=400\n",
        ").configure_axis(\n",
        "    labelFontSize=12,\n",
        "    titleFontSize=14\n",
        ").configure_legend(\n",
        "    titleFontSize=13,\n",
        "    labelFontSize=12\n",
        ")\n",
        "\n",
        "chart.show()"
      ],
      "metadata": {
        "colab": {
          "base_uri": "https://localhost:8080/",
          "height": 506
        },
        "id": "ec1kLfCZz3PZ",
        "outputId": "33dfde18-42dd-43ae-9f23-a235c4c52e70"
      },
      "execution_count": 13,
      "outputs": [
        {
          "output_type": "display_data",
          "data": {
            "text/html": [
              "\n",
              "<style>\n",
              "  #altair-viz-11051ec9637240089eb804575dfd847a.vega-embed {\n",
              "    width: 100%;\n",
              "    display: flex;\n",
              "  }\n",
              "\n",
              "  #altair-viz-11051ec9637240089eb804575dfd847a.vega-embed details,\n",
              "  #altair-viz-11051ec9637240089eb804575dfd847a.vega-embed details summary {\n",
              "    position: relative;\n",
              "  }\n",
              "</style>\n",
              "<div id=\"altair-viz-11051ec9637240089eb804575dfd847a\"></div>\n",
              "<script type=\"text/javascript\">\n",
              "  var VEGA_DEBUG = (typeof VEGA_DEBUG == \"undefined\") ? {} : VEGA_DEBUG;\n",
              "  (function(spec, embedOpt){\n",
              "    let outputDiv = document.currentScript.previousElementSibling;\n",
              "    if (outputDiv.id !== \"altair-viz-11051ec9637240089eb804575dfd847a\") {\n",
              "      outputDiv = document.getElementById(\"altair-viz-11051ec9637240089eb804575dfd847a\");\n",
              "    }\n",
              "\n",
              "    const paths = {\n",
              "      \"vega\": \"https://cdn.jsdelivr.net/npm/vega@5?noext\",\n",
              "      \"vega-lib\": \"https://cdn.jsdelivr.net/npm/vega-lib?noext\",\n",
              "      \"vega-lite\": \"https://cdn.jsdelivr.net/npm/vega-lite@5.20.1?noext\",\n",
              "      \"vega-embed\": \"https://cdn.jsdelivr.net/npm/vega-embed@6?noext\",\n",
              "    };\n",
              "\n",
              "    function maybeLoadScript(lib, version) {\n",
              "      var key = `${lib.replace(\"-\", \"\")}_version`;\n",
              "      return (VEGA_DEBUG[key] == version) ?\n",
              "        Promise.resolve(paths[lib]) :\n",
              "        new Promise(function(resolve, reject) {\n",
              "          var s = document.createElement('script');\n",
              "          document.getElementsByTagName(\"head\")[0].appendChild(s);\n",
              "          s.async = true;\n",
              "          s.onload = () => {\n",
              "            VEGA_DEBUG[key] = version;\n",
              "            return resolve(paths[lib]);\n",
              "          };\n",
              "          s.onerror = () => reject(`Error loading script: ${paths[lib]}`);\n",
              "          s.src = paths[lib];\n",
              "        });\n",
              "    }\n",
              "\n",
              "    function showError(err) {\n",
              "      outputDiv.innerHTML = `<div class=\"error\" style=\"color:red;\">${err}</div>`;\n",
              "      throw err;\n",
              "    }\n",
              "\n",
              "    function displayChart(vegaEmbed) {\n",
              "      vegaEmbed(outputDiv, spec, embedOpt)\n",
              "        .catch(err => showError(`Javascript Error: ${err.message}<br>This usually means there's a typo in your chart specification. See the javascript console for the full traceback.`));\n",
              "    }\n",
              "\n",
              "    if(typeof define === \"function\" && define.amd) {\n",
              "      requirejs.config({paths});\n",
              "      let deps = [\"vega-embed\"];\n",
              "      require(deps, displayChart, err => showError(`Error loading script: ${err.message}`));\n",
              "    } else {\n",
              "      maybeLoadScript(\"vega\", \"5\")\n",
              "        .then(() => maybeLoadScript(\"vega-lite\", \"5.20.1\"))\n",
              "        .then(() => maybeLoadScript(\"vega-embed\", \"6\"))\n",
              "        .catch(showError)\n",
              "        .then(() => displayChart(vegaEmbed));\n",
              "    }\n",
              "  })({\"config\": {\"view\": {\"continuousWidth\": 300, \"continuousHeight\": 300}, \"axis\": {\"labelFontSize\": 12, \"titleFontSize\": 14}, \"legend\": {\"labelFontSize\": 12, \"titleFontSize\": 13}}, \"data\": {\"name\": \"data-0e46b8289218667a21d53b838989b5f5\"}, \"mark\": {\"type\": \"bar\"}, \"encoding\": {\"color\": {\"field\": \"Region\", \"title\": \"Regi\\u00f3n\", \"type\": \"nominal\"}, \"tooltip\": [{\"field\": \"Year\", \"type\": \"quantitative\"}, {\"field\": \"Region\", \"type\": \"nominal\"}, {\"field\": \"FighterCount\", \"type\": \"quantitative\"}], \"x\": {\"field\": \"Year\", \"title\": \"A\\u00f1o\", \"type\": \"ordinal\"}, \"y\": {\"field\": \"FighterCount\", \"title\": \"N\\u00b0 de Peleadores\", \"type\": \"quantitative\"}}, \"height\": 400, \"title\": \"Distribuci\\u00f3n Regional de Peleadores UFC por A\\u00f1o (2010\\u20132021)\", \"width\": 700, \"$schema\": \"https://vega.github.io/schema/vega-lite/v5.20.1.json\", \"datasets\": {\"data-0e46b8289218667a21d53b838989b5f5\": [{\"Year\": 2010, \"Region\": \"Asia\", \"FighterCount\": 7}, {\"Year\": 2010, \"Region\": \"Balcanes\", \"FighterCount\": 2}, {\"Year\": 2010, \"Region\": \"Brazil\", \"FighterCount\": 26}, {\"Year\": 2010, \"Region\": \"East Europe\", \"FighterCount\": 3}, {\"Year\": 2010, \"Region\": \"Nordic\", \"FighterCount\": 2}, {\"Year\": 2010, \"Region\": \"North America\", \"FighterCount\": 14}, {\"Year\": 2010, \"Region\": \"Oceania\", \"FighterCount\": 3}, {\"Year\": 2010, \"Region\": \"United States\", \"FighterCount\": 154}, {\"Year\": 2010, \"Region\": \"West Europe\", \"FighterCount\": 26}, {\"Year\": 2011, \"Region\": \"Asia\", \"FighterCount\": 12}, {\"Year\": 2011, \"Region\": \"Balcanes\", \"FighterCount\": 1}, {\"Year\": 2011, \"Region\": \"Brazil\", \"FighterCount\": 37}, {\"Year\": 2011, \"Region\": \"Caribean\", \"FighterCount\": 1}, {\"Year\": 2011, \"Region\": \"East Europe\", \"FighterCount\": 4}, {\"Year\": 2011, \"Region\": \"Middle East\", \"FighterCount\": 1}, {\"Year\": 2011, \"Region\": \"Nordic\", \"FighterCount\": 3}, {\"Year\": 2011, \"Region\": \"North America\", \"FighterCount\": 16}, {\"Year\": 2011, \"Region\": \"Oceania\", \"FighterCount\": 5}, {\"Year\": 2011, \"Region\": \"United States\", \"FighterCount\": 212}, {\"Year\": 2011, \"Region\": \"West Europe\", \"FighterCount\": 25}, {\"Year\": 2012, \"Region\": \"Asia\", \"FighterCount\": 16}, {\"Year\": 2012, \"Region\": \"Balcanes\", \"FighterCount\": 1}, {\"Year\": 2012, \"Region\": \"Brazil\", \"FighterCount\": 58}, {\"Year\": 2012, \"Region\": \"Caribean\", \"FighterCount\": 1}, {\"Year\": 2012, \"Region\": \"East Europe\", \"FighterCount\": 1}, {\"Year\": 2012, \"Region\": \"Eurasia\", \"FighterCount\": 4}, {\"Year\": 2012, \"Region\": \"Middle East\", \"FighterCount\": 2}, {\"Year\": 2012, \"Region\": \"Nordic\", \"FighterCount\": 7}, {\"Year\": 2012, \"Region\": \"North America\", \"FighterCount\": 22}, {\"Year\": 2012, \"Region\": \"Oceania\", \"FighterCount\": 6}, {\"Year\": 2012, \"Region\": \"South America\", \"FighterCount\": 3}, {\"Year\": 2012, \"Region\": \"United States\", \"FighterCount\": 202}, {\"Year\": 2012, \"Region\": \"West Europe\", \"FighterCount\": 31}, {\"Year\": 2013, \"Region\": \"Asia\", \"FighterCount\": 14}, {\"Year\": 2013, \"Region\": \"Balcanes\", \"FighterCount\": 1}, {\"Year\": 2013, \"Region\": \"Brazil\", \"FighterCount\": 73}, {\"Year\": 2013, \"Region\": \"Caribean\", \"FighterCount\": 2}, {\"Year\": 2013, \"Region\": \"East Europe\", \"FighterCount\": 7}, {\"Year\": 2013, \"Region\": \"Eurasia\", \"FighterCount\": 7}, {\"Year\": 2013, \"Region\": \"Middle East\", \"FighterCount\": 1}, {\"Year\": 2013, \"Region\": \"Nordic\", \"FighterCount\": 9}, {\"Year\": 2013, \"Region\": \"North America\", \"FighterCount\": 21}, {\"Year\": 2013, \"Region\": \"Oceania\", \"FighterCount\": 10}, {\"Year\": 2013, \"Region\": \"South America\", \"FighterCount\": 3}, {\"Year\": 2013, \"Region\": \"United States\", \"FighterCount\": 222}, {\"Year\": 2013, \"Region\": \"West Europe\", \"FighterCount\": 34}, {\"Year\": 2014, \"Region\": \"Africa\", \"FighterCount\": 1}, {\"Year\": 2014, \"Region\": \"Asia\", \"FighterCount\": 26}, {\"Year\": 2014, \"Region\": \"Balcanes\", \"FighterCount\": 1}, {\"Year\": 2014, \"Region\": \"Brazil\", \"FighterCount\": 82}, {\"Year\": 2014, \"Region\": \"Caribean\", \"FighterCount\": 3}, {\"Year\": 2014, \"Region\": \"East Europe\", \"FighterCount\": 10}, {\"Year\": 2014, \"Region\": \"Eurasia\", \"FighterCount\": 12}, {\"Year\": 2014, \"Region\": \"Middle East\", \"FighterCount\": 1}, {\"Year\": 2014, \"Region\": \"Nordic\", \"FighterCount\": 8}, {\"Year\": 2014, \"Region\": \"North America\", \"FighterCount\": 34}, {\"Year\": 2014, \"Region\": \"Oceania\", \"FighterCount\": 17}, {\"Year\": 2014, \"Region\": \"South America\", \"FighterCount\": 5}, {\"Year\": 2014, \"Region\": \"United States\", \"FighterCount\": 257}, {\"Year\": 2014, \"Region\": \"West Europe\", \"FighterCount\": 33}, {\"Year\": 2015, \"Region\": \"Africa\", \"FighterCount\": 2}, {\"Year\": 2015, \"Region\": \"Asia\", \"FighterCount\": 20}, {\"Year\": 2015, \"Region\": \"Brazil\", \"FighterCount\": 78}, {\"Year\": 2015, \"Region\": \"Caribean\", \"FighterCount\": 2}, {\"Year\": 2015, \"Region\": \"East Europe\", \"FighterCount\": 18}, {\"Year\": 2015, \"Region\": \"Eurasia\", \"FighterCount\": 16}, {\"Year\": 2015, \"Region\": \"Middle East\", \"FighterCount\": 2}, {\"Year\": 2015, \"Region\": \"Nordic\", \"FighterCount\": 8}, {\"Year\": 2015, \"Region\": \"North America\", \"FighterCount\": 35}, {\"Year\": 2015, \"Region\": \"Oceania\", \"FighterCount\": 17}, {\"Year\": 2015, \"Region\": \"South America\", \"FighterCount\": 10}, {\"Year\": 2015, \"Region\": \"United States\", \"FighterCount\": 256}, {\"Year\": 2015, \"Region\": \"West Europe\", \"FighterCount\": 38}, {\"Year\": 2016, \"Region\": \"Africa\", \"FighterCount\": 1}, {\"Year\": 2016, \"Region\": \"Asia\", \"FighterCount\": 18}, {\"Year\": 2016, \"Region\": \"Balcanes\", \"FighterCount\": 5}, {\"Year\": 2016, \"Region\": \"Brazil\", \"FighterCount\": 74}, {\"Year\": 2016, \"Region\": \"Caribean\", \"FighterCount\": 2}, {\"Year\": 2016, \"Region\": \"East Europe\", \"FighterCount\": 17}, {\"Year\": 2016, \"Region\": \"Eurasia\", \"FighterCount\": 17}, {\"Year\": 2016, \"Region\": \"Middle East\", \"FighterCount\": 2}, {\"Year\": 2016, \"Region\": \"Nordic\", \"FighterCount\": 11}, {\"Year\": 2016, \"Region\": \"North America\", \"FighterCount\": 34}, {\"Year\": 2016, \"Region\": \"Oceania\", \"FighterCount\": 14}, {\"Year\": 2016, \"Region\": \"South America\", \"FighterCount\": 10}, {\"Year\": 2016, \"Region\": \"United States\", \"FighterCount\": 243}, {\"Year\": 2016, \"Region\": \"West Europe\", \"FighterCount\": 41}, {\"Year\": 2017, \"Region\": \"Africa\", \"FighterCount\": 1}, {\"Year\": 2017, \"Region\": \"Asia\", \"FighterCount\": 20}, {\"Year\": 2017, \"Region\": \"Balcanes\", \"FighterCount\": 3}, {\"Year\": 2017, \"Region\": \"Brazil\", \"FighterCount\": 73}, {\"Year\": 2017, \"Region\": \"Caribean\", \"FighterCount\": 2}, {\"Year\": 2017, \"Region\": \"East Europe\", \"FighterCount\": 17}, {\"Year\": 2017, \"Region\": \"Eurasia\", \"FighterCount\": 19}, {\"Year\": 2017, \"Region\": \"Middle East\", \"FighterCount\": 2}, {\"Year\": 2017, \"Region\": \"Nordic\", \"FighterCount\": 10}, {\"Year\": 2017, \"Region\": \"North America\", \"FighterCount\": 27}, {\"Year\": 2017, \"Region\": \"Oceania\", \"FighterCount\": 19}, {\"Year\": 2017, \"Region\": \"South America\", \"FighterCount\": 6}, {\"Year\": 2017, \"Region\": \"United States\", \"FighterCount\": 234}, {\"Year\": 2017, \"Region\": \"West Europe\", \"FighterCount\": 42}, {\"Year\": 2018, \"Region\": \"Africa\", \"FighterCount\": 3}, {\"Year\": 2018, \"Region\": \"Asia\", \"FighterCount\": 17}, {\"Year\": 2018, \"Region\": \"Balcanes\", \"FighterCount\": 3}, {\"Year\": 2018, \"Region\": \"Brazil\", \"FighterCount\": 76}, {\"Year\": 2018, \"Region\": \"Caribean\", \"FighterCount\": 3}, {\"Year\": 2018, \"Region\": \"East Europe\", \"FighterCount\": 20}, {\"Year\": 2018, \"Region\": \"Eurasia\", \"FighterCount\": 24}, {\"Year\": 2018, \"Region\": \"Middle East\", \"FighterCount\": 1}, {\"Year\": 2018, \"Region\": \"Nordic\", \"FighterCount\": 10}, {\"Year\": 2018, \"Region\": \"North America\", \"FighterCount\": 24}, {\"Year\": 2018, \"Region\": \"Oceania\", \"FighterCount\": 21}, {\"Year\": 2018, \"Region\": \"South America\", \"FighterCount\": 11}, {\"Year\": 2018, \"Region\": \"United States\", \"FighterCount\": 262}, {\"Year\": 2018, \"Region\": \"West Europe\", \"FighterCount\": 46}, {\"Year\": 2019, \"Region\": \"Africa\", \"FighterCount\": 4}, {\"Year\": 2019, \"Region\": \"Asia\", \"FighterCount\": 16}, {\"Year\": 2019, \"Region\": \"Balcanes\", \"FighterCount\": 3}, {\"Year\": 2019, \"Region\": \"Brazil\", \"FighterCount\": 85}, {\"Year\": 2019, \"Region\": \"Caribean\", \"FighterCount\": 2}, {\"Year\": 2019, \"Region\": \"East Europe\", \"FighterCount\": 17}, {\"Year\": 2019, \"Region\": \"Eurasia\", \"FighterCount\": 36}, {\"Year\": 2019, \"Region\": \"Nordic\", \"FighterCount\": 10}, {\"Year\": 2019, \"Region\": \"North America\", \"FighterCount\": 27}, {\"Year\": 2019, \"Region\": \"Oceania\", \"FighterCount\": 16}, {\"Year\": 2019, \"Region\": \"South America\", \"FighterCount\": 8}, {\"Year\": 2019, \"Region\": \"United States\", \"FighterCount\": 259}, {\"Year\": 2019, \"Region\": \"West Europe\", \"FighterCount\": 40}, {\"Year\": 2020, \"Region\": \"Africa\", \"FighterCount\": 5}, {\"Year\": 2020, \"Region\": \"Asia\", \"FighterCount\": 11}, {\"Year\": 2020, \"Region\": \"Balcanes\", \"FighterCount\": 3}, {\"Year\": 2020, \"Region\": \"Brazil\", \"FighterCount\": 76}, {\"Year\": 2020, \"Region\": \"Caribean\", \"FighterCount\": 2}, {\"Year\": 2020, \"Region\": \"East Europe\", \"FighterCount\": 20}, {\"Year\": 2020, \"Region\": \"Eurasia\", \"FighterCount\": 30}, {\"Year\": 2020, \"Region\": \"Middle East\", \"FighterCount\": 1}, {\"Year\": 2020, \"Region\": \"Nordic\", \"FighterCount\": 10}, {\"Year\": 2020, \"Region\": \"North America\", \"FighterCount\": 17}, {\"Year\": 2020, \"Region\": \"Oceania\", \"FighterCount\": 16}, {\"Year\": 2020, \"Region\": \"South America\", \"FighterCount\": 6}, {\"Year\": 2020, \"Region\": \"United States\", \"FighterCount\": 272}, {\"Year\": 2020, \"Region\": \"West Europe\", \"FighterCount\": 50}, {\"Year\": 2021, \"Region\": \"Africa\", \"FighterCount\": 8}, {\"Year\": 2021, \"Region\": \"Asia\", \"FighterCount\": 8}, {\"Year\": 2021, \"Region\": \"Balcanes\", \"FighterCount\": 3}, {\"Year\": 2021, \"Region\": \"Brazil\", \"FighterCount\": 82}, {\"Year\": 2021, \"Region\": \"Caribean\", \"FighterCount\": 3}, {\"Year\": 2021, \"Region\": \"East Europe\", \"FighterCount\": 24}, {\"Year\": 2021, \"Region\": \"Eurasia\", \"FighterCount\": 30}, {\"Year\": 2021, \"Region\": \"Middle East\", \"FighterCount\": 1}, {\"Year\": 2021, \"Region\": \"Nordic\", \"FighterCount\": 7}, {\"Year\": 2021, \"Region\": \"North America\", \"FighterCount\": 20}, {\"Year\": 2021, \"Region\": \"Oceania\", \"FighterCount\": 17}, {\"Year\": 2021, \"Region\": \"South America\", \"FighterCount\": 11}, {\"Year\": 2021, \"Region\": \"United States\", \"FighterCount\": 277}, {\"Year\": 2021, \"Region\": \"West Europe\", \"FighterCount\": 40}]}}, {\"mode\": \"vega-lite\"});\n",
              "</script>"
            ],
            "text/plain": [
              "alt.Chart(...)"
            ]
          },
          "metadata": {}
        }
      ]
    },
    {
      "cell_type": "code",
      "source": [
        "pip install pandas plotly openpyxl"
      ],
      "metadata": {
        "colab": {
          "base_uri": "https://localhost:8080/"
        },
        "id": "tKsXhILh1Sxe",
        "outputId": "8e4b9d12-76b7-41f0-e4ba-9cf2b4777b09"
      },
      "execution_count": 21,
      "outputs": [
        {
          "output_type": "stream",
          "name": "stdout",
          "text": [
            "Requirement already satisfied: pandas in /usr/local/lib/python3.11/dist-packages (2.2.2)\n",
            "Requirement already satisfied: plotly in /usr/local/lib/python3.11/dist-packages (5.24.1)\n",
            "Requirement already satisfied: openpyxl in /usr/local/lib/python3.11/dist-packages (3.1.5)\n",
            "Requirement already satisfied: numpy>=1.23.2 in /usr/local/lib/python3.11/dist-packages (from pandas) (2.0.2)\n",
            "Requirement already satisfied: python-dateutil>=2.8.2 in /usr/local/lib/python3.11/dist-packages (from pandas) (2.9.0.post0)\n",
            "Requirement already satisfied: pytz>=2020.1 in /usr/local/lib/python3.11/dist-packages (from pandas) (2025.2)\n",
            "Requirement already satisfied: tzdata>=2022.7 in /usr/local/lib/python3.11/dist-packages (from pandas) (2025.2)\n",
            "Requirement already satisfied: tenacity>=6.2.0 in /usr/local/lib/python3.11/dist-packages (from plotly) (9.1.2)\n",
            "Requirement already satisfied: packaging in /usr/local/lib/python3.11/dist-packages (from plotly) (24.2)\n",
            "Requirement already satisfied: et-xmlfile in /usr/local/lib/python3.11/dist-packages (from openpyxl) (2.0.0)\n",
            "Requirement already satisfied: six>=1.5 in /usr/local/lib/python3.11/dist-packages (from python-dateutil>=2.8.2->pandas) (1.17.0)\n"
          ]
        }
      ]
    },
    {
      "cell_type": "code",
      "source": [
        "import pandas as pd\n",
        "import plotly.express as px\n",
        "\n",
        "# Cargar el archivo\n",
        "df = pd.read_excel(\"/union-clean 1.xlsx\")\n",
        "\n",
        "# Filtrar por años relevantes\n",
        "df = df[(df[\"Year\"] >= 2010) & (df[\"Year\"] <= 2021)]\n",
        "\n",
        "# Contar peleadores únicos por nacionalidad\n",
        "country_counts = df.groupby(\"Nationality\")[\"Fighter\"].nunique().reset_index()\n",
        "country_counts.columns = [\"Country\", \"FighterCount\"]\n",
        "\n",
        "# Crear mapa de calor\n",
        "fig = px.choropleth(\n",
        "    country_counts,\n",
        "    locations=\"Country\",\n",
        "    locationmode=\"country names\",\n",
        "    color=\"FighterCount\",\n",
        "    hover_name=\"Country\",\n",
        "    color_continuous_scale=\"Viridis\",\n",
        "    title=\"Diversificación de Origen de Peleadores UFC (2010–2021)\"\n",
        ")\n",
        "\n",
        "fig.update_layout(\n",
        "    geo=dict(showframe=False, showcoastlines=False),\n",
        "    coloraxis_colorbar=dict(title=\"N° de Peleadores\")\n",
        ")\n",
        "\n",
        "fig.show()"
      ],
      "metadata": {
        "colab": {
          "base_uri": "https://localhost:8080/",
          "height": 542
        },
        "id": "MWZVurvi1WmK",
        "outputId": "0015a9be-7d21-49aa-9a63-b5fc672c9d00"
      },
      "execution_count": 22,
      "outputs": [
        {
          "output_type": "display_data",
          "data": {
            "text/html": [
              "<html>\n",
              "<head><meta charset=\"utf-8\" /></head>\n",
              "<body>\n",
              "    <div>            <script src=\"https://cdnjs.cloudflare.com/ajax/libs/mathjax/2.7.5/MathJax.js?config=TeX-AMS-MML_SVG\"></script><script type=\"text/javascript\">if (window.MathJax && window.MathJax.Hub && window.MathJax.Hub.Config) {window.MathJax.Hub.Config({SVG: {font: \"STIX-Web\"}});}</script>                <script type=\"text/javascript\">window.PlotlyConfig = {MathJaxConfig: 'local'};</script>\n",
              "        <script charset=\"utf-8\" src=\"https://cdn.plot.ly/plotly-2.35.2.min.js\"></script>                <div id=\"7390fe83-ab12-487f-a1fc-f1283db710cd\" class=\"plotly-graph-div\" style=\"height:525px; width:100%;\"></div>            <script type=\"text/javascript\">                                    window.PLOTLYENV=window.PLOTLYENV || {};                                    if (document.getElementById(\"7390fe83-ab12-487f-a1fc-f1283db710cd\")) {                    Plotly.newPlot(                        \"7390fe83-ab12-487f-a1fc-f1283db710cd\",                        [{\"coloraxis\":\"coloraxis\",\"geo\":\"geo\",\"hovertemplate\":\"\\u003cb\\u003e%{hovertext}\\u003c\\u002fb\\u003e\\u003cbr\\u003e\\u003cbr\\u003eCountry=%{location}\\u003cbr\\u003eFighterCount=%{z}\\u003cextra\\u003e\\u003c\\u002fextra\\u003e\",\"hovertext\":[\"Afghanistan\",\"Angola\",\"Argentina\",\"Armenia\",\"Australia\",\"Austria\",\"Belarus\",\"Belgium\",\"Bolivia\",\"Bosnia and Herzegovina\",\"Brazil\",\"Bulgaria\",\"Cameroon\",\"Canada\",\"Cape Verde\",\"Chile\",\"China\",\"Colombia\",\"Costa Rica\",\"Croatia\",\"Cuba\",\"Czech Republic\",\"Denmark\",\"Ecuador\",\"El Salvador\",\"England\",\"Finland\",\"France\",\"Georgia\",\"Germany\",\"Greece\",\"Guam\",\"Hong Kong\",\"Hungary\",\"Iceland\",\"Iran\",\"Iraq\",\"Ireland\",\"Italy\",\"Jamaica\",\"Japan\",\"Jordan\",\"Kazakhstan\",\"Kyrgyzstan\",\"Latvia\",\"Lithuania\",\"Macedonia\",\"Mexico\",\"Moldova\",\"Mongolia\",\"Morocco\",\"Netherlands\",\"New Zealand\",\"Nicaragua\",\"Nigeria\",\"Northern Ireland\",\"Northern Mariana Islands\",\"Norway\",\"Panama\",\"Paraguay\",\"Peru\",\"Philippines\",\"Poland\",\"Romania\",\"Russia\",\"Scotland\",\"Serbia\",\"Singapore\",\"Slovakia\",\"South Africa\",\"South Korea\",\"Spain\",\"Suriname\",\"Sweden\",\"Switzerland\",\"Syria\",\"Taiwan\",\"Tunisia\",\"Turkey\",\"Ukraine\",\"United States\",\"Uzbekistan\",\"Venezuela\",\"Wales\"],\"locationmode\":\"country names\",\"locations\":[\"Afghanistan\",\"Angola\",\"Argentina\",\"Armenia\",\"Australia\",\"Austria\",\"Belarus\",\"Belgium\",\"Bolivia\",\"Bosnia and Herzegovina\",\"Brazil\",\"Bulgaria\",\"Cameroon\",\"Canada\",\"Cape Verde\",\"Chile\",\"China\",\"Colombia\",\"Costa Rica\",\"Croatia\",\"Cuba\",\"Czech Republic\",\"Denmark\",\"Ecuador\",\"El Salvador\",\"England\",\"Finland\",\"France\",\"Georgia\",\"Germany\",\"Greece\",\"Guam\",\"Hong Kong\",\"Hungary\",\"Iceland\",\"Iran\",\"Iraq\",\"Ireland\",\"Italy\",\"Jamaica\",\"Japan\",\"Jordan\",\"Kazakhstan\",\"Kyrgyzstan\",\"Latvia\",\"Lithuania\",\"Macedonia\",\"Mexico\",\"Moldova\",\"Mongolia\",\"Morocco\",\"Netherlands\",\"New Zealand\",\"Nicaragua\",\"Nigeria\",\"Northern Ireland\",\"Northern Mariana Islands\",\"Norway\",\"Panama\",\"Paraguay\",\"Peru\",\"Philippines\",\"Poland\",\"Romania\",\"Russia\",\"Scotland\",\"Serbia\",\"Singapore\",\"Slovakia\",\"South Africa\",\"South Korea\",\"Spain\",\"Suriname\",\"Sweden\",\"Switzerland\",\"Syria\",\"Taiwan\",\"Tunisia\",\"Turkey\",\"Ukraine\",\"United States\",\"Uzbekistan\",\"Venezuela\",\"Wales\"],\"name\":\"\",\"z\":[2,1,5,1,35,3,2,3,1,1,201,2,1,66,1,2,8,4,1,3,3,5,6,1,1,60,5,15,4,11,2,3,1,1,1,2,1,9,5,2,37,1,4,3,1,2,1,17,1,1,1,7,7,1,1,2,1,2,1,1,5,6,23,3,49,3,5,1,1,5,12,5,1,22,2,1,1,1,1,3,814,2,3,5],\"type\":\"choropleth\"}],                        {\"template\":{\"data\":{\"histogram2dcontour\":[{\"type\":\"histogram2dcontour\",\"colorbar\":{\"outlinewidth\":0,\"ticks\":\"\"},\"colorscale\":[[0.0,\"#0d0887\"],[0.1111111111111111,\"#46039f\"],[0.2222222222222222,\"#7201a8\"],[0.3333333333333333,\"#9c179e\"],[0.4444444444444444,\"#bd3786\"],[0.5555555555555556,\"#d8576b\"],[0.6666666666666666,\"#ed7953\"],[0.7777777777777778,\"#fb9f3a\"],[0.8888888888888888,\"#fdca26\"],[1.0,\"#f0f921\"]]}],\"choropleth\":[{\"type\":\"choropleth\",\"colorbar\":{\"outlinewidth\":0,\"ticks\":\"\"}}],\"histogram2d\":[{\"type\":\"histogram2d\",\"colorbar\":{\"outlinewidth\":0,\"ticks\":\"\"},\"colorscale\":[[0.0,\"#0d0887\"],[0.1111111111111111,\"#46039f\"],[0.2222222222222222,\"#7201a8\"],[0.3333333333333333,\"#9c179e\"],[0.4444444444444444,\"#bd3786\"],[0.5555555555555556,\"#d8576b\"],[0.6666666666666666,\"#ed7953\"],[0.7777777777777778,\"#fb9f3a\"],[0.8888888888888888,\"#fdca26\"],[1.0,\"#f0f921\"]]}],\"heatmap\":[{\"type\":\"heatmap\",\"colorbar\":{\"outlinewidth\":0,\"ticks\":\"\"},\"colorscale\":[[0.0,\"#0d0887\"],[0.1111111111111111,\"#46039f\"],[0.2222222222222222,\"#7201a8\"],[0.3333333333333333,\"#9c179e\"],[0.4444444444444444,\"#bd3786\"],[0.5555555555555556,\"#d8576b\"],[0.6666666666666666,\"#ed7953\"],[0.7777777777777778,\"#fb9f3a\"],[0.8888888888888888,\"#fdca26\"],[1.0,\"#f0f921\"]]}],\"heatmapgl\":[{\"type\":\"heatmapgl\",\"colorbar\":{\"outlinewidth\":0,\"ticks\":\"\"},\"colorscale\":[[0.0,\"#0d0887\"],[0.1111111111111111,\"#46039f\"],[0.2222222222222222,\"#7201a8\"],[0.3333333333333333,\"#9c179e\"],[0.4444444444444444,\"#bd3786\"],[0.5555555555555556,\"#d8576b\"],[0.6666666666666666,\"#ed7953\"],[0.7777777777777778,\"#fb9f3a\"],[0.8888888888888888,\"#fdca26\"],[1.0,\"#f0f921\"]]}],\"contourcarpet\":[{\"type\":\"contourcarpet\",\"colorbar\":{\"outlinewidth\":0,\"ticks\":\"\"}}],\"contour\":[{\"type\":\"contour\",\"colorbar\":{\"outlinewidth\":0,\"ticks\":\"\"},\"colorscale\":[[0.0,\"#0d0887\"],[0.1111111111111111,\"#46039f\"],[0.2222222222222222,\"#7201a8\"],[0.3333333333333333,\"#9c179e\"],[0.4444444444444444,\"#bd3786\"],[0.5555555555555556,\"#d8576b\"],[0.6666666666666666,\"#ed7953\"],[0.7777777777777778,\"#fb9f3a\"],[0.8888888888888888,\"#fdca26\"],[1.0,\"#f0f921\"]]}],\"surface\":[{\"type\":\"surface\",\"colorbar\":{\"outlinewidth\":0,\"ticks\":\"\"},\"colorscale\":[[0.0,\"#0d0887\"],[0.1111111111111111,\"#46039f\"],[0.2222222222222222,\"#7201a8\"],[0.3333333333333333,\"#9c179e\"],[0.4444444444444444,\"#bd3786\"],[0.5555555555555556,\"#d8576b\"],[0.6666666666666666,\"#ed7953\"],[0.7777777777777778,\"#fb9f3a\"],[0.8888888888888888,\"#fdca26\"],[1.0,\"#f0f921\"]]}],\"mesh3d\":[{\"type\":\"mesh3d\",\"colorbar\":{\"outlinewidth\":0,\"ticks\":\"\"}}],\"scatter\":[{\"fillpattern\":{\"fillmode\":\"overlay\",\"size\":10,\"solidity\":0.2},\"type\":\"scatter\"}],\"parcoords\":[{\"type\":\"parcoords\",\"line\":{\"colorbar\":{\"outlinewidth\":0,\"ticks\":\"\"}}}],\"scatterpolargl\":[{\"type\":\"scatterpolargl\",\"marker\":{\"colorbar\":{\"outlinewidth\":0,\"ticks\":\"\"}}}],\"bar\":[{\"error_x\":{\"color\":\"#2a3f5f\"},\"error_y\":{\"color\":\"#2a3f5f\"},\"marker\":{\"line\":{\"color\":\"#E5ECF6\",\"width\":0.5},\"pattern\":{\"fillmode\":\"overlay\",\"size\":10,\"solidity\":0.2}},\"type\":\"bar\"}],\"scattergeo\":[{\"type\":\"scattergeo\",\"marker\":{\"colorbar\":{\"outlinewidth\":0,\"ticks\":\"\"}}}],\"scatterpolar\":[{\"type\":\"scatterpolar\",\"marker\":{\"colorbar\":{\"outlinewidth\":0,\"ticks\":\"\"}}}],\"histogram\":[{\"marker\":{\"pattern\":{\"fillmode\":\"overlay\",\"size\":10,\"solidity\":0.2}},\"type\":\"histogram\"}],\"scattergl\":[{\"type\":\"scattergl\",\"marker\":{\"colorbar\":{\"outlinewidth\":0,\"ticks\":\"\"}}}],\"scatter3d\":[{\"type\":\"scatter3d\",\"line\":{\"colorbar\":{\"outlinewidth\":0,\"ticks\":\"\"}},\"marker\":{\"colorbar\":{\"outlinewidth\":0,\"ticks\":\"\"}}}],\"scattermapbox\":[{\"type\":\"scattermapbox\",\"marker\":{\"colorbar\":{\"outlinewidth\":0,\"ticks\":\"\"}}}],\"scatterternary\":[{\"type\":\"scatterternary\",\"marker\":{\"colorbar\":{\"outlinewidth\":0,\"ticks\":\"\"}}}],\"scattercarpet\":[{\"type\":\"scattercarpet\",\"marker\":{\"colorbar\":{\"outlinewidth\":0,\"ticks\":\"\"}}}],\"carpet\":[{\"aaxis\":{\"endlinecolor\":\"#2a3f5f\",\"gridcolor\":\"white\",\"linecolor\":\"white\",\"minorgridcolor\":\"white\",\"startlinecolor\":\"#2a3f5f\"},\"baxis\":{\"endlinecolor\":\"#2a3f5f\",\"gridcolor\":\"white\",\"linecolor\":\"white\",\"minorgridcolor\":\"white\",\"startlinecolor\":\"#2a3f5f\"},\"type\":\"carpet\"}],\"table\":[{\"cells\":{\"fill\":{\"color\":\"#EBF0F8\"},\"line\":{\"color\":\"white\"}},\"header\":{\"fill\":{\"color\":\"#C8D4E3\"},\"line\":{\"color\":\"white\"}},\"type\":\"table\"}],\"barpolar\":[{\"marker\":{\"line\":{\"color\":\"#E5ECF6\",\"width\":0.5},\"pattern\":{\"fillmode\":\"overlay\",\"size\":10,\"solidity\":0.2}},\"type\":\"barpolar\"}],\"pie\":[{\"automargin\":true,\"type\":\"pie\"}]},\"layout\":{\"autotypenumbers\":\"strict\",\"colorway\":[\"#636efa\",\"#EF553B\",\"#00cc96\",\"#ab63fa\",\"#FFA15A\",\"#19d3f3\",\"#FF6692\",\"#B6E880\",\"#FF97FF\",\"#FECB52\"],\"font\":{\"color\":\"#2a3f5f\"},\"hovermode\":\"closest\",\"hoverlabel\":{\"align\":\"left\"},\"paper_bgcolor\":\"white\",\"plot_bgcolor\":\"#E5ECF6\",\"polar\":{\"bgcolor\":\"#E5ECF6\",\"angularaxis\":{\"gridcolor\":\"white\",\"linecolor\":\"white\",\"ticks\":\"\"},\"radialaxis\":{\"gridcolor\":\"white\",\"linecolor\":\"white\",\"ticks\":\"\"}},\"ternary\":{\"bgcolor\":\"#E5ECF6\",\"aaxis\":{\"gridcolor\":\"white\",\"linecolor\":\"white\",\"ticks\":\"\"},\"baxis\":{\"gridcolor\":\"white\",\"linecolor\":\"white\",\"ticks\":\"\"},\"caxis\":{\"gridcolor\":\"white\",\"linecolor\":\"white\",\"ticks\":\"\"}},\"coloraxis\":{\"colorbar\":{\"outlinewidth\":0,\"ticks\":\"\"}},\"colorscale\":{\"sequential\":[[0.0,\"#0d0887\"],[0.1111111111111111,\"#46039f\"],[0.2222222222222222,\"#7201a8\"],[0.3333333333333333,\"#9c179e\"],[0.4444444444444444,\"#bd3786\"],[0.5555555555555556,\"#d8576b\"],[0.6666666666666666,\"#ed7953\"],[0.7777777777777778,\"#fb9f3a\"],[0.8888888888888888,\"#fdca26\"],[1.0,\"#f0f921\"]],\"sequentialminus\":[[0.0,\"#0d0887\"],[0.1111111111111111,\"#46039f\"],[0.2222222222222222,\"#7201a8\"],[0.3333333333333333,\"#9c179e\"],[0.4444444444444444,\"#bd3786\"],[0.5555555555555556,\"#d8576b\"],[0.6666666666666666,\"#ed7953\"],[0.7777777777777778,\"#fb9f3a\"],[0.8888888888888888,\"#fdca26\"],[1.0,\"#f0f921\"]],\"diverging\":[[0,\"#8e0152\"],[0.1,\"#c51b7d\"],[0.2,\"#de77ae\"],[0.3,\"#f1b6da\"],[0.4,\"#fde0ef\"],[0.5,\"#f7f7f7\"],[0.6,\"#e6f5d0\"],[0.7,\"#b8e186\"],[0.8,\"#7fbc41\"],[0.9,\"#4d9221\"],[1,\"#276419\"]]},\"xaxis\":{\"gridcolor\":\"white\",\"linecolor\":\"white\",\"ticks\":\"\",\"title\":{\"standoff\":15},\"zerolinecolor\":\"white\",\"automargin\":true,\"zerolinewidth\":2},\"yaxis\":{\"gridcolor\":\"white\",\"linecolor\":\"white\",\"ticks\":\"\",\"title\":{\"standoff\":15},\"zerolinecolor\":\"white\",\"automargin\":true,\"zerolinewidth\":2},\"scene\":{\"xaxis\":{\"backgroundcolor\":\"#E5ECF6\",\"gridcolor\":\"white\",\"linecolor\":\"white\",\"showbackground\":true,\"ticks\":\"\",\"zerolinecolor\":\"white\",\"gridwidth\":2},\"yaxis\":{\"backgroundcolor\":\"#E5ECF6\",\"gridcolor\":\"white\",\"linecolor\":\"white\",\"showbackground\":true,\"ticks\":\"\",\"zerolinecolor\":\"white\",\"gridwidth\":2},\"zaxis\":{\"backgroundcolor\":\"#E5ECF6\",\"gridcolor\":\"white\",\"linecolor\":\"white\",\"showbackground\":true,\"ticks\":\"\",\"zerolinecolor\":\"white\",\"gridwidth\":2}},\"shapedefaults\":{\"line\":{\"color\":\"#2a3f5f\"}},\"annotationdefaults\":{\"arrowcolor\":\"#2a3f5f\",\"arrowhead\":0,\"arrowwidth\":1},\"geo\":{\"bgcolor\":\"white\",\"landcolor\":\"#E5ECF6\",\"subunitcolor\":\"white\",\"showland\":true,\"showlakes\":true,\"lakecolor\":\"white\"},\"title\":{\"x\":0.05},\"mapbox\":{\"style\":\"light\"}}},\"geo\":{\"domain\":{\"x\":[0.0,1.0],\"y\":[0.0,1.0]},\"center\":{},\"showframe\":false,\"showcoastlines\":false},\"coloraxis\":{\"colorbar\":{\"title\":{\"text\":\"N° de Peleadores\"}},\"colorscale\":[[0.0,\"#440154\"],[0.1111111111111111,\"#482878\"],[0.2222222222222222,\"#3e4989\"],[0.3333333333333333,\"#31688e\"],[0.4444444444444444,\"#26828e\"],[0.5555555555555556,\"#1f9e89\"],[0.6666666666666666,\"#35b779\"],[0.7777777777777778,\"#6ece58\"],[0.8888888888888888,\"#b5de2b\"],[1.0,\"#fde725\"]]},\"legend\":{\"tracegroupgap\":0},\"title\":{\"text\":\"Diversificación de Origen de Peleadores UFC (2010–2021)\"}},                        {\"responsive\": true}                    ).then(function(){\n",
              "                            \n",
              "var gd = document.getElementById('7390fe83-ab12-487f-a1fc-f1283db710cd');\n",
              "var x = new MutationObserver(function (mutations, observer) {{\n",
              "        var display = window.getComputedStyle(gd).display;\n",
              "        if (!display || display === 'none') {{\n",
              "            console.log([gd, 'removed!']);\n",
              "            Plotly.purge(gd);\n",
              "            observer.disconnect();\n",
              "        }}\n",
              "}});\n",
              "\n",
              "// Listen for the removal of the full notebook cells\n",
              "var notebookContainer = gd.closest('#notebook-container');\n",
              "if (notebookContainer) {{\n",
              "    x.observe(notebookContainer, {childList: true});\n",
              "}}\n",
              "\n",
              "// Listen for the clearing of the current output cell\n",
              "var outputEl = gd.closest('.output');\n",
              "if (outputEl) {{\n",
              "    x.observe(outputEl, {childList: true});\n",
              "}}\n",
              "\n",
              "                        })                };                            </script>        </div>\n",
              "</body>\n",
              "</html>"
            ]
          },
          "metadata": {}
        }
      ]
    }
  ]
}