{
 "cells": [
  {
   "cell_type": "markdown",
   "id": "2e170b1d",
   "metadata": {},
   "source": [
    "# Cargar base de datos limpia de la UFC"
   ]
  },
  {
   "cell_type": "code",
   "execution_count": null,
   "id": "4d69ee1b",
   "metadata": {},
   "outputs": [],
   "source": [
    "import pandas as pd"
   ]
  },
  {
   "cell_type": "code",
   "execution_count": null,
   "id": "47437791",
   "metadata": {},
   "outputs": [],
   "source": [
    "df = pd.read_csv('ufc_champs_limpia.csv')"
   ]
  },
  {
   "cell_type": "code",
   "execution_count": null,
   "id": "60874fab",
   "metadata": {},
   "outputs": [],
   "source": [
    "df.head()"
   ]
  }
 ],
 "metadata": {},
 "nbformat": 4,
 "nbformat_minor": 5
}