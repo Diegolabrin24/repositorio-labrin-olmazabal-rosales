{
  "nbformat": 4,
  "nbformat_minor": 0,
  "metadata": {
    "colab": {
      "provenance": []
    },
    "kernelspec": {
      "name": "python3",
      "display_name": "Python 3"
    },
    "language_info": {
      "name": "python"
    }
  },
  "cells": [
    {
      "cell_type": "code",
      "execution_count": null,
      "metadata": {
        "id": "ZNggzF2QTOWp"
      },
      "outputs": [],
      "source": [
        "# Visualización: Estilos de pelea por región en UFC\n",
        "\n",
        "Este notebook genera una visualización comparativa de estilos de pelea entre peleadores de Estados Unidos y Europa del Este utilizando Altair.\n"
      ]
    },
    {
      "cell_type": "code",
      "source": [
        "# Instalar librerías necesarias\n",
        "!pip install altair vega_datasets\n"
      ],
      "metadata": {
        "id": "XGfDDpR6TTCo"
      },
      "execution_count": null,
      "outputs": []
    },
    {
      "cell_type": "code",
      "source": [
        "# Subir archivo CSV desde el computador\n",
        "from google.colab import files\n",
        "uploaded = files.upload()\n"
      ],
      "metadata": {
        "id": "TA0LvCBtTXN-"
      },
      "execution_count": null,
      "outputs": []
    },
    {
      "cell_type": "code",
      "source": [
        "# Importar librerías\n",
        "import pandas as pd\n",
        "import altair as alt\n"
      ],
      "metadata": {
        "id": "iloz4h1CTaNE"
      },
      "execution_count": null,
      "outputs": []
    },
    {
      "cell_type": "code",
      "source": [
        "# Cargar el archivo CSV (ajusta el nombre si es distinto)\n",
        "filename = list(uploaded.keys())[0]\n",
        "df = pd.read_csv(filename)\n"
      ],
      "metadata": {
        "id": "8irD6H-jToYJ"
      },
      "execution_count": null,
      "outputs": []
    },
    {
      "cell_type": "code",
      "source": [
        "# Clasificar regiones\n",
        "europa_del_este = [\n",
        "    \"Russia\", \"Georgia\", \"Ukraine\", \"Poland\", \"Czech Republic\", \"Slovakia\",\n",
        "    \"Hungary\", \"Romania\", \"Bulgaria\", \"Serbia\", \"Croatia\", \"Slovenia\",\n",
        "    \"Bosnia and Herzegovina\", \"Montenegro\", \"North Macedonia\", \"Albania\",\n",
        "    \"Moldova\", \"Belarus\", \"Armenia\", \"Lithuania\", \"Latvia\", \"Estonia\"\n",
        "]\n",
        "\n",
        "def clasificar_region(pais):\n",
        "    if pais == \"United States\":\n",
        "        return \"Estados Unidos\"\n",
        "    elif pais in europa_del_este:\n",
        "        return \"Europa del Este\"\n",
        "    else:\n",
        "        return \"Otro\"\n",
        "\n",
        "df[\"region\"] = df[\"pais\"].apply(clasificar_region)\n"
      ],
      "metadata": {
        "id": "bkQPy7jMTrcz"
      },
      "execution_count": null,
      "outputs": []
    },
    {
      "cell_type": "code",
      "source": [
        "# Filtrar solo regiones de interés y eliminar vacíos\n",
        "df_filtrado = df[df[\"region\"].isin([\"Estados Unidos\", \"Europa del Este\"])]\n",
        "df_filtrado = df_filtrado[df_filtrado[\"estilo_pelea\"].notna()]\n"
      ],
      "metadata": {
        "id": "g8jad8K4Tvlp"
      },
      "execution_count": null,
      "outputs": []
    },
    {
      "cell_type": "code",
      "source": [
        "# Agrupar y contar estilos por región\n",
        "conteo = df_filtrado.groupby([\"region\", \"estilo_pelea\"]).size().reset_index(name=\"cantidad\")\n"
      ],
      "metadata": {
        "id": "gg90axhyT5lX"
      },
      "execution_count": null,
      "outputs": []
    },
    {
      "cell_type": "code",
      "source": [
        "# Crear gráfico\n",
        "chart = alt.Chart(conteo).mark_bar().encode(\n",
        "    x=alt.X('cantidad:Q', title='Cantidad de peleadores'),\n",
        "    y=alt.Y('estilo_pelea:N', sort='-x', title='Estilo de pelea'),\n",
        "    color=alt.Color('region:N', title='Región'),\n",
        "    tooltip=['region', 'estilo_pelea', 'cantidad']\n",
        ").properties(\n",
        "    title='Estilos de pelea por región: Estados Unidos vs Europa del Este',\n",
        "    width=600,\n",
        "    height=400\n",
        ")\n",
        "\n",
        "chart.show()\n"
      ],
      "metadata": {
        "id": "WFtCb1CzT-fr"
      },
      "execution_count": null,
      "outputs": []
    }
  ]
}